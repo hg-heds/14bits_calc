{
 "cells": [
  {
   "cell_type": "code",
   "execution_count": 71,
   "metadata": {},
   "outputs": [],
   "source": [
    "import numpy as np\n",
    "import pandas"
   ]
  },
  {
   "cell_type": "code",
   "execution_count": 72,
   "metadata": {},
   "outputs": [],
   "source": [
    "reynolds_xflr5 = [30,40,50,60,70,80,90,100,115,130,145,160,180,200,250,300,400,500,750,1000,2000,3000]\n",
    "alpha = np.round(np.arange(-18,18.01,0.2),2)\n",
    "reynolds = np.array(reynolds_xflr5)"
   ]
  },
  {
   "cell_type": "code",
   "execution_count": 73,
   "metadata": {},
   "outputs": [],
   "source": [
    "analysis = {}\n",
    "cl = [] \n",
    "cd = [] \n",
    "cm = []"
   ]
  },
  {
   "cell_type": "code",
   "execution_count": 74,
   "metadata": {},
   "outputs": [],
   "source": [
    "for val in reynolds_xflr5:\n",
    "    with open(f\"airfoils/tkv2008_analysis_2/TKV2008_T1_Re{'%.3f'%(val/1000)}_M0.00_N9.0.csv\",'rt') as f:\n",
    "        text = f.read()\n",
    "    lines = text.strip().split('\\n')\n",
    "    data = [row.split(',')[:5] for row in lines[10:]]\n",
    "    analysis[val] = {float(col[0]):(float(col[1]),float(col[2]),float(col[4])) for col in data}\n"
   ]
  },
  {
   "cell_type": "code",
   "execution_count": 75,
   "metadata": {},
   "outputs": [],
   "source": [
    "for re in reynolds:\n",
    "    cl.append(list(pandas.Series([analysis[re][a][0] if a in analysis[re] else np.nan for a in alpha]).interpolate()))\n",
    "    cd.append(list(pandas.Series([analysis[re][a][1] if a in analysis[re] else np.nan for a in alpha]).interpolate()))\n",
    "    cm.append(list(pandas.Series([analysis[re][a][2] if a in analysis[re] else np.nan for a in alpha]).interpolate()))\n"
   ]
  },
  {
   "cell_type": "code",
   "execution_count": 76,
   "metadata": {},
   "outputs": [],
   "source": [
    "cl = np.array(cl).T\n",
    "cd = np.array(cd).T\n",
    "cm = np.array(cm).T "
   ]
  },
  {
   "cell_type": "code",
   "execution_count": 77,
   "metadata": {},
   "outputs": [],
   "source": [
    "all_Data = np.array([alpha,reynolds*1000.,cl,cd,cm],dtype=object)"
   ]
  },
  {
   "cell_type": "code",
   "execution_count": 78,
   "metadata": {},
   "outputs": [],
   "source": [
    "np.save(\"tkv2008_analysis_2.npy\",all_Data)"
   ]
  }
 ],
 "metadata": {
  "kernelspec": {
   "display_name": "Python 3.10.11 64-bit (microsoft store)",
   "language": "python",
   "name": "python3"
  },
  "language_info": {
   "codemirror_mode": {
    "name": "ipython",
    "version": 3
   },
   "file_extension": ".py",
   "mimetype": "text/x-python",
   "name": "python",
   "nbconvert_exporter": "python",
   "pygments_lexer": "ipython3",
   "version": "3.11.3"
  },
  "orig_nbformat": 4,
  "vscode": {
   "interpreter": {
    "hash": "b1ad5e8ad7d380c83bc85e3e9d9545e0ca7f1df9662bca2fd259e79a6cf84242"
   }
  }
 },
 "nbformat": 4,
 "nbformat_minor": 2
}
