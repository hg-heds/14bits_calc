{
 "cells": [
  {
   "cell_type": "code",
   "execution_count": 1,
   "metadata": {},
   "outputs": [],
   "source": [
    "import numpy as np\n",
    "import pandas"
   ]
  },
  {
   "cell_type": "code",
   "execution_count": 2,
   "metadata": {},
   "outputs": [],
   "source": [
    "reynolds_xflr5 = [30,40,60,80,100,130,160,200,273,300,500,1000,3000]\n",
    "alpha = np.arange(-10,10.01,0.25)\n",
    "reynolds = np.array(reynolds_xflr5)"
   ]
  },
  {
   "cell_type": "code",
   "execution_count": 3,
   "metadata": {},
   "outputs": [],
   "source": [
    "analysis = {}\n",
    "cl = [] \n",
    "cd = [] \n",
    "cm = []"
   ]
  },
  {
   "cell_type": "code",
   "execution_count": 4,
   "metadata": {},
   "outputs": [],
   "source": [
    "for val in reynolds_xflr5:\n",
    "    with open(f\"airfoils/tkv2008_analysis/TKV2008_T1_Re{'%.3f'%(val/1000)}_M0.00_N9.0.csv\",'rt') as f:\n",
    "        text = f.read()\n",
    "    lines = text.strip().split('\\n')\n",
    "    data = [row.split(',')[:5] for row in lines[10:]]\n",
    "    analysis[val] = {float(col[0]):(float(col[1]),float(col[2]),float(col[4])) for col in data}\n"
   ]
  },
  {
   "cell_type": "code",
   "execution_count": 5,
   "metadata": {},
   "outputs": [],
   "source": [
    "for re in reynolds:\n",
    "    cl.append(list(pandas.Series([analysis[re][a][0] if a in analysis[re] else np.nan for a in alpha]).interpolate()))\n",
    "    cd.append(list(pandas.Series([analysis[re][a][1] if a in analysis[re] else np.nan for a in alpha]).interpolate()))\n",
    "    cm.append(list(pandas.Series([analysis[re][a][2] if a in analysis[re] else np.nan for a in alpha]).interpolate()))\n"
   ]
  },
  {
   "cell_type": "code",
   "execution_count": 6,
   "metadata": {},
   "outputs": [],
   "source": [
    "CL = np.array(cl).T\n",
    "CD = np.array(cd).T\n",
    "CM = np.array(cm).T "
   ]
  },
  {
   "cell_type": "code",
   "execution_count": 7,
   "metadata": {},
   "outputs": [
    {
     "name": "stderr",
     "output_type": "stream",
     "text": [
      "C:\\Users\\HDIAS\\AppData\\Local\\Packages\\PythonSoftwareFoundation.Python.3.10_qbz5n2kfra8p0\\LocalCache\\local-packages\\Python310\\site-packages\\numpy\\lib\\npyio.py:521: VisibleDeprecationWarning: Creating an ndarray from ragged nested sequences (which is a list-or-tuple of lists-or-tuples-or ndarrays with different lengths or shapes) is deprecated. If you meant to do this, you must specify 'dtype=object' when creating the ndarray.\n",
      "  arr = np.asanyarray(arr)\n"
     ]
    }
   ],
   "source": [
    "np.save(\"tkv2008.npy\",[alpha,reynolds*1000.,CL,CD,CM])"
   ]
  }
 ],
 "metadata": {
  "kernelspec": {
   "display_name": "Python 3.10.11 64-bit (microsoft store)",
   "language": "python",
   "name": "python3"
  },
  "language_info": {
   "codemirror_mode": {
    "name": "ipython",
    "version": 3
   },
   "file_extension": ".py",
   "mimetype": "text/x-python",
   "name": "python",
   "nbconvert_exporter": "python",
   "pygments_lexer": "ipython3",
   "version": "3.10.11"
  },
  "orig_nbformat": 4,
  "vscode": {
   "interpreter": {
    "hash": "b1ad5e8ad7d380c83bc85e3e9d9545e0ca7f1df9662bca2fd259e79a6cf84242"
   }
  }
 },
 "nbformat": 4,
 "nbformat_minor": 2
}
