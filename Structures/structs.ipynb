{
 "cells": [
  {
   "cell_type": "code",
   "execution_count": null,
   "metadata": {},
   "outputs": [],
   "source": []
  },
  {
   "attachments": {},
   "cell_type": "markdown",
   "metadata": {},
   "source": [
    "fuselagem_frente (ABS)\n",
    "    - Antes do alívio: 44g\n",
    "    - Alívio 1: 30g\n",
    "        - Treliça ~10mm\n",
    "        - Distância até a borda: 15mm\n",
    "        - Fillet: 2mm\n",
    "\n",
    "TODO: \n",
    "    Verificar posição do centro de gravidade e força necessária no profundor para realizar rotação em torno do trem de pouso\n",
    "\n"
   ]
  },
  {
   "attachments": {},
   "cell_type": "markdown",
   "metadata": {},
   "source": []
  }
 ],
 "metadata": {
  "language_info": {
   "name": "python"
  },
  "orig_nbformat": 4
 },
 "nbformat": 4,
 "nbformat_minor": 2
}
