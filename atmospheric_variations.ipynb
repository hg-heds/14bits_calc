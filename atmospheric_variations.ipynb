{
 "cells": [
  {
   "cell_type": "code",
   "execution_count": 21,
   "metadata": {},
   "outputs": [],
   "source": [
    "import numpy as np"
   ]
  },
  {
   "cell_type": "code",
   "execution_count": 22,
   "metadata": {},
   "outputs": [],
   "source": [
    "HEIGHT      = 630                               # Height above sea level                        m"
   ]
  },
  {
   "cell_type": "code",
   "execution_count": 26,
   "metadata": {},
   "outputs": [],
   "source": [
    "# Atmospheric pressure\n",
    "# https://en.wikipedia.org/wiki/Atmospheric_pressure\n",
    "\n",
    "g           = 9.80665                           # Gravitational acceleration                    m/s/s\n",
    "T0          = (15 + 273.15)                     # Sea level standard temperature                K\n",
    "M           = 0.0289652                         # Molar mass of dry air                         kg/mol\n",
    "R0\t        = 8.314462618                       # Universal gas constant\t                    J/mol/K\n",
    "p0          = 101325                            # Sea level standard atmospheric pressure       Pa\n",
    "p           = p0*np.exp(-g*HEIGHT*M/T0/R0)      # Atmospheric pressure at altitude              Pa\n"
   ]
  },
  {
   "cell_type": "code",
   "execution_count": 29,
   "metadata": {},
   "outputs": [
    {
     "data": {
      "text/plain": [
       "1.1368448545611256"
      ]
     },
     "execution_count": 29,
     "metadata": {},
     "output_type": "execute_result"
    }
   ],
   "source": [
    "# Density of air \n",
    "# https://en.wikipedia.org/wiki/Density_of_air\n",
    "\n",
    "R_dry_air   = R0/M                              # Specific gas constant for dry air             J/kg/K\n",
    "T_CELSIUS   = 15                                # Temperature in Celsius                        °C\n",
    "T           = (T_CELSIUS + 273.15)              # Absolute temperature                          K\n",
    "rho         = p/R_dry_air/T                     # Density of dry air at altitude                kg/m/m/m\n",
    "rho"
   ]
  },
  {
   "cell_type": "code",
   "execution_count": null,
   "metadata": {},
   "outputs": [],
   "source": []
  }
 ],
 "metadata": {
  "kernelspec": {
   "display_name": "Python 3.10.11 64-bit (microsoft store)",
   "language": "python",
   "name": "python3"
  },
  "language_info": {
   "codemirror_mode": {
    "name": "ipython",
    "version": 3
   },
   "file_extension": ".py",
   "mimetype": "text/x-python",
   "name": "python",
   "nbconvert_exporter": "python",
   "pygments_lexer": "ipython3",
   "version": "3.10.11"
  },
  "orig_nbformat": 4,
  "vscode": {
   "interpreter": {
    "hash": "b1ad5e8ad7d380c83bc85e3e9d9545e0ca7f1df9662bca2fd259e79a6cf84242"
   }
  }
 },
 "nbformat": 4,
 "nbformat_minor": 2
}
