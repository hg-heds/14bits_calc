{
 "cells": [
  {
   "cell_type": "code",
   "execution_count": null,
   "metadata": {},
   "outputs": [],
   "source": [
    "lh/cm\n",
    "lv/b\n",
    "lf/b\n",
    "bh/b\n",
    "cr/lf \n",
    "sprof/sh\n",
    "sleme/sv\n"
   ]
  },
  {
   "attachments": {},
   "cell_type": "markdown",
   "metadata": {},
   "source": [
    "lh          \n",
    "cm \n",
    "lv \n",
    "b \n",
    "bh \n",
    "cr \n",
    "sprof \n",
    "sh \n",
    "sleme \n",
    "sv "
   ]
  },
  {
   "attachments": {},
   "cell_type": "markdown",
   "metadata": {},
   "source": [
    "tkv micro 2014\n",
    "tkv regular 2009\n",
    "tkv regular 2011\n",
    "14bits 2017\n",
    "14bits 2018\n",
    "14bits 2019\n",
    "\n",
    "lh/cm\n",
    "lv/b\n",
    "lf/b\n",
    "bh/b\n",
    "cr/lf \n",
    "sprof/sh\n",
    "sleme/sv\n",
    "\n"
   ]
  },
  {
   "cell_type": "code",
   "execution_count": 4,
   "metadata": {},
   "outputs": [],
   "source": [
    "tkv2014 = {\n",
    "    'b':1.32,\n",
    "    's':0.34,\n",
    "    'cr':0.28,\n",
    "    'cma':0.2602,\n",
    "    \n",
    "}\n",
    "tkv2011 = {\n",
    "    'b':2.7,\n",
    "    's':1.34,\n",
    "    'cr':0.55,\n",
    "    'cma':0.5,\n",
    "\n",
    "    \n",
    "}\n",
    "tkv2009 = {\n",
    "    'b':3.1,\n",
    "    'lf':1.73,\n",
    "    's':1.2927,\n",
    "    'cr':0.55,\n",
    "    'cma':0.4161,\n",
    "    'lh':0.13,\n",
    "    'lv':0.13,\n",
    "    'bh':0.746,\n",
    "    'bv':0.333\n",
    "}\n",
    "bits2018 = {\n",
    "    'b':1.36,\n",
    "    'lf':0.65,\n",
    "    's':0.27538,\n",
    "    'cr':0.25,\n",
    "    'cma':0.2298,\n",
    "    'lh':0.2,\n",
    "    'lv':0.2,\n",
    "    'bh':0.746,\n",
    "    'bv':0.333\n",
    "}\n",
    "bits2019 = {\n",
    "    'b':1.9,\n",
    "    'lf':1.31,\n",
    "    's':0.71245,\n",
    "    'cr':0.375,\n",
    "    'cma':0.375,\n",
    "    'lh':0.19,\n",
    "    'lv':0.2,\n",
    "    'bh':0.535,\n",
    "    'bv':0.29\n",
    "}\n",
    "bits2017 = {\n",
    "    'b':2.2,\n",
    "    'lf':1.6,\n",
    "    's':0.9210,\n",
    "    'cr':0.55,\n",
    "    'cma':0.3724,\n",
    "    'lh':0.39,\n",
    "    'lv':0.3,\n",
    "    'bh':0.6,\n",
    "    'bv':0.4\n",
    "}"
   ]
  },
  {
   "cell_type": "code",
   "execution_count": null,
   "metadata": {},
   "outputs": [],
   "source": [
    "aircraft = [tkv2009, bits2017, bits2018, bits2019]\n",
    "for a in aircraft:\n",
    "    print(f\"{a['lh']/a['cma']}\\n{a['lv']/a['b']}\\n{a['lf']/a['b']}\\n{a['bh']/a['b']}\\n{a['cr']/a['lf']}\\n\\n\")\n",
    "    "
   ]
  },
  {
   "cell_type": "code",
   "execution_count": 3,
   "metadata": {},
   "outputs": [
    {
     "data": {
      "text/plain": [
       "0.41863636363636364"
      ]
     },
     "execution_count": 3,
     "metadata": {},
     "output_type": "execute_result"
    }
   ],
   "source": [
    "0.9210/2.2"
   ]
  },
  {
   "cell_type": "code",
   "execution_count": null,
   "metadata": {},
   "outputs": [],
   "source": []
  }
 ],
 "metadata": {
  "kernelspec": {
   "display_name": "Python 3",
   "language": "python",
   "name": "python3"
  },
  "language_info": {
   "codemirror_mode": {
    "name": "ipython",
    "version": 3
   },
   "file_extension": ".py",
   "mimetype": "text/x-python",
   "name": "python",
   "nbconvert_exporter": "python",
   "pygments_lexer": "ipython3",
   "version": "3.11.4"
  },
  "orig_nbformat": 4
 },
 "nbformat": 4,
 "nbformat_minor": 2
}
