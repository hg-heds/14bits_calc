{
 "cells": [
  {
   "cell_type": "code",
   "execution_count": 2,
   "metadata": {},
   "outputs": [],
   "source": [
    "import numpy as np"
   ]
  },
  {
   "cell_type": "code",
   "execution_count": 10,
   "metadata": {},
   "outputs": [],
   "source": [
    "### Constants\n",
    "AIR_DENSITY     = 1.225         * 1e0   # kg/m**3\n",
    "AIR_VISCOSITY   = 1.7894e-5     * 1e0   # kg/m/s\n"
   ]
  },
  {
   "cell_type": "code",
   "execution_count": 11,
   "metadata": {},
   "outputs": [],
   "source": [
    "### Config\n",
    "MEAN_CHORD      = 200           * 1e-3  # mm\n",
    "WINGSPAN        = 1200          * 1e-3  # mm\n"
   ]
  },
  {
   "cell_type": "code",
   "execution_count": 12,
   "metadata": {},
   "outputs": [
    {
     "data": {
      "text/plain": [
       "array([136917.40248128, 273834.80496256, 410752.20744384])"
      ]
     },
     "execution_count": 12,
     "metadata": {},
     "output_type": "execute_result"
    }
   ],
   "source": [
    "speed = np.linspace(10,30,3)\n",
    "reynolds = AIR_DENSITY * speed * MEAN_CHORD / AIR_VISCOSITY\n",
    "reynolds"
   ]
  },
  {
   "cell_type": "code",
   "execution_count": null,
   "metadata": {},
   "outputs": [],
   "source": []
  },
  {
   "cell_type": "markdown",
   "metadata": {},
   "source": []
  }
 ],
 "metadata": {
  "kernelspec": {
   "display_name": "Python 3.10.11 64-bit (microsoft store)",
   "language": "python",
   "name": "python3"
  },
  "language_info": {
   "codemirror_mode": {
    "name": "ipython",
    "version": 3
   },
   "file_extension": ".py",
   "mimetype": "text/x-python",
   "name": "python",
   "nbconvert_exporter": "python",
   "pygments_lexer": "ipython3",
   "version": "3.10.11"
  },
  "orig_nbformat": 4,
  "vscode": {
   "interpreter": {
    "hash": "b1ad5e8ad7d380c83bc85e3e9d9545e0ca7f1df9662bca2fd259e79a6cf84242"
   }
  }
 },
 "nbformat": 4,
 "nbformat_minor": 2
}
