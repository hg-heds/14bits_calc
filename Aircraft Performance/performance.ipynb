{
 "cells": [
  {
   "attachments": {},
   "cell_type": "markdown",
   "metadata": {},
   "source": [
    "Helix\n",
    "\n",
    "11x6    \n",
    "10x4.5          *5\n",
    "12x6\n",
    "11x4.7"
   ]
  },
  {
   "cell_type": "code",
   "execution_count": 17,
   "metadata": {},
   "outputs": [],
   "source": [
    "lb_to_n = 4.4482189159\n",
    "hp_to_w = 745.7\n",
    "ms_to_mph = 2.23694\n",
    "n_to_oz = 3.59694527\n",
    "ft_to_m = 0.3048"
   ]
  },
  {
   "cell_type": "code",
   "execution_count": 18,
   "metadata": {},
   "outputs": [
    {
     "data": {
      "text/plain": [
       "1219.2"
      ]
     },
     "execution_count": 18,
     "metadata": {},
     "output_type": "execute_result"
    }
   ],
   "source": [
    "4000*ft_to_m"
   ]
  },
  {
   "cell_type": "code",
   "execution_count": 12,
   "metadata": {},
   "outputs": [
    {
     "data": {
      "text/plain": [
       "13140"
      ]
     },
     "execution_count": 12,
     "metadata": {},
     "output_type": "execute_result"
    }
   ],
   "source": [
    "1460*9"
   ]
  },
  {
   "cell_type": "code",
   "execution_count": 14,
   "metadata": {},
   "outputs": [
    {
     "data": {
      "text/plain": [
       "23.80241943464433"
      ]
     },
     "execution_count": 14,
     "metadata": {},
     "output_type": "execute_result"
    }
   ],
   "source": [
    "85.616/n_to_oz"
   ]
  },
  {
   "cell_type": "code",
   "execution_count": 3,
   "metadata": {},
   "outputs": [
    {
     "data": {
      "text/plain": [
       "20.295267950941582"
      ]
     },
     "execution_count": 3,
     "metadata": {},
     "output_type": "execute_result"
    }
   ],
   "source": [
    "d = 10/12\n",
    "p = 4.5/12\n",
    "pe = 430/hp_to_w\n",
    "n = 1460 * 9\n",
    "kt0 = 57000*(1.97-p/d)\n",
    "t0 = kt0 * pe / n / d\n",
    "t0 * lb_to_n"
   ]
  },
  {
   "cell_type": "code",
   "execution_count": 15,
   "metadata": {},
   "outputs": [
    {
     "data": {
      "text/plain": [
       "22.906828384567326"
      ]
     },
     "execution_count": 15,
     "metadata": {},
     "output_type": "execute_result"
    }
   ],
   "source": [
    "d = 11/12\n",
    "p = 4.7/12\n",
    "pe = 526/hp_to_w\n",
    "n = 1460 * 9\n",
    "kt0 = 57000*(1.97-p/d)\n",
    "t0 = kt0 * pe / n / d\n",
    "t0 * lb_to_n"
   ]
  },
  {
   "cell_type": "code",
   "execution_count": 6,
   "metadata": {},
   "outputs": [
    {
     "data": {
      "text/plain": [
       "19.62766045255535"
      ]
     },
     "execution_count": 6,
     "metadata": {},
     "output_type": "execute_result"
    }
   ],
   "source": [
    "d = 10/12\n",
    "p = 5/12\n",
    "pe = 430/hp_to_w\n",
    "n = 1460 * 9\n",
    "kt0 = 57000*(1.97-p/d)\n",
    "t0 = kt0 * pe / n / d\n",
    "t0 * lb_to_n"
   ]
  },
  {
   "cell_type": "code",
   "execution_count": 8,
   "metadata": {},
   "outputs": [
    {
     "data": {
      "text/plain": [
       "16.35638371046279"
      ]
     },
     "execution_count": 8,
     "metadata": {},
     "output_type": "execute_result"
    }
   ],
   "source": [
    "d = 12/12\n",
    "p = 6/12\n",
    "pe = 430/hp_to_w\n",
    "n = 1460 * 9\n",
    "kt0 = 57000*(1.97-p/d)\n",
    "t0 = kt0 * pe / n / d\n",
    "t0 * lb_to_n"
   ]
  },
  {
   "cell_type": "code",
   "execution_count": null,
   "metadata": {},
   "outputs": [],
   "source": []
  }
 ],
 "metadata": {
  "kernelspec": {
   "display_name": "Python 3.10.11 64-bit (microsoft store)",
   "language": "python",
   "name": "python3"
  },
  "language_info": {
   "codemirror_mode": {
    "name": "ipython",
    "version": 3
   },
   "file_extension": ".py",
   "mimetype": "text/x-python",
   "name": "python",
   "nbconvert_exporter": "python",
   "pygments_lexer": "ipython3",
   "version": "3.10.11"
  },
  "orig_nbformat": 4,
  "vscode": {
   "interpreter": {
    "hash": "b1ad5e8ad7d380c83bc85e3e9d9545e0ca7f1df9662bca2fd259e79a6cf84242"
   }
  }
 },
 "nbformat": 4,
 "nbformat_minor": 2
}
