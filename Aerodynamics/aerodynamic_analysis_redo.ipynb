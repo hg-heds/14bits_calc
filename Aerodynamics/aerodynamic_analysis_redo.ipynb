{
 "cells": [
  {
   "cell_type": "code",
   "execution_count": 8,
   "metadata": {},
   "outputs": [],
   "source": [
    "import numpy as np\n",
    "import pandas\n",
    "from glob import glob\n",
    "from os import path\n",
    "np.set_printoptions(precision=5,linewidth=130)"
   ]
  },
  {
   "cell_type": "code",
   "execution_count": 13,
   "metadata": {},
   "outputs": [],
   "source": [
    "files = glob('..\\\\airfoils\\\\tkv2008_analysis_4\\\\*')\n",
    "analyses = [path.basename(file) for file in files]\n",
    "reynolds = [int(float(file[13:18])*1e6) for file in analyses]"
   ]
  },
  {
   "cell_type": "code",
   "execution_count": 10,
   "metadata": {},
   "outputs": [],
   "source": [
    "alpha = np.round(np.arange(-25,25.01,0.25),2)"
   ]
  },
  {
   "cell_type": "code",
   "execution_count": 11,
   "metadata": {},
   "outputs": [],
   "source": [
    "analysis = {}\n",
    "cl = [] \n",
    "cd = [] \n",
    "cm = []"
   ]
  },
  {
   "cell_type": "code",
   "execution_count": 21,
   "metadata": {},
   "outputs": [],
   "source": [
    "for index,file in enumerate(files):\n",
    "    with open(file,'r') as f:\n",
    "        text = f.read()\n",
    "    lines = text.strip().split('\\n')[11:]\n",
    "    rows = [line.strip().replace('    ',' ').replace('   ',' ').replace('  ',' ').split(' ') for line in lines] \n",
    "    analysis[reynolds[index]] = \n"
   ]
  },
  {
   "cell_type": "code",
   "execution_count": 58,
   "metadata": {},
   "outputs": [],
   "source": [
    "for val in reynolds_xflr5:\n",
    "    with open(f\"../airfoils/tkv2008_analysis_3/TKV2008_T1_Re{'%.3f'%(val/1000)}_M0.00_N9.0.csv\",'rt') as f:\n",
    "        text = f.read()\n",
    "    rows = text.strip().split('\\n')\n",
    "    data = [row.split(',')[:5] for row in rows[10:]]\n",
    "    analysis[val] = {float(col[0]):(float(col[1]),float(col[2]),float(col[4])) for col in data}\n"
   ]
  },
  {
   "cell_type": "code",
   "execution_count": 59,
   "metadata": {},
   "outputs": [],
   "source": [
    "for re in reynolds:\n",
    "    cl.append(list(pandas.Series([analysis[re][a][0] if a in analysis[re] else np.nan for a in alpha]).interpolate().rolling(10).sum()/10))\n",
    "    cd.append(list(pandas.Series([analysis[re][a][1] if a in analysis[re] else np.nan for a in alpha]).interpolate().rolling(10).sum()/10))\n",
    "    cm.append(list(pandas.Series([analysis[re][a][2] if a in analysis[re] else np.nan for a in alpha]).interpolate().rolling(10).sum()/10))\n"
   ]
  },
  {
   "cell_type": "code",
   "execution_count": 60,
   "metadata": {},
   "outputs": [],
   "source": [
    "with open('fdsfdf.txt','w') as f:\n",
    "    f.write(pandas.DataFrame(cl,reynolds,alpha).to_string())"
   ]
  },
  {
   "cell_type": "code",
   "execution_count": 61,
   "metadata": {},
   "outputs": [],
   "source": [
    "cl = np.array(cl).T\n",
    "cd = np.array(cd).T\n",
    "cm = np.array(cm).T "
   ]
  },
  {
   "cell_type": "code",
   "execution_count": 62,
   "metadata": {},
   "outputs": [],
   "source": [
    "cl = cl[16:,:-2]\n",
    "cd = cd[16:,:-2]\n",
    "cm = cm[16:,:-2]\n",
    "alpha = alpha[16:]\n",
    "reynolds = reynolds[:-2]"
   ]
  },
  {
   "cell_type": "code",
   "execution_count": 63,
   "metadata": {},
   "outputs": [],
   "source": [
    "with open('fdsfdf.txt','w') as f:\n",
    "    f.write(pandas.DataFrame(cl,alpha,reynolds).to_string())"
   ]
  },
  {
   "cell_type": "code",
   "execution_count": 65,
   "metadata": {},
   "outputs": [],
   "source": [
    "all_data = np.array([alpha,reynolds*1000.,cl,cd,cm],dtype=object)"
   ]
  },
  {
   "cell_type": "code",
   "execution_count": 66,
   "metadata": {},
   "outputs": [],
   "source": [
    "np.save(\"tkv2008_analysis_3_smooth.npy\",all_data)"
   ]
  },
  {
   "cell_type": "code",
   "execution_count": null,
   "metadata": {},
   "outputs": [],
   "source": []
  }
 ],
 "metadata": {
  "kernelspec": {
   "display_name": "Python 3.10.11 64-bit (microsoft store)",
   "language": "python",
   "name": "python3"
  },
  "language_info": {
   "codemirror_mode": {
    "name": "ipython",
    "version": 3
   },
   "file_extension": ".py",
   "mimetype": "text/x-python",
   "name": "python",
   "nbconvert_exporter": "python",
   "pygments_lexer": "ipython3",
   "version": "3.10.11"
  },
  "orig_nbformat": 4,
  "vscode": {
   "interpreter": {
    "hash": "b1ad5e8ad7d380c83bc85e3e9d9545e0ca7f1df9662bca2fd259e79a6cf84242"
   }
  }
 },
 "nbformat": 4,
 "nbformat_minor": 2
}
