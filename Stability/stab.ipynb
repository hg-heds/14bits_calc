{
 "cells": [
  {
   "cell_type": "code",
   "execution_count": 1,
   "metadata": {},
   "outputs": [],
   "source": [
    "import numpy as np\n",
    "from matplotlib import pyplot as plt"
   ]
  },
  {
   "cell_type": "code",
   "execution_count": 2,
   "metadata": {},
   "outputs": [],
   "source": [
    "### Config\n",
    "MEAN_CHORD      = 250           * 1e-3  # mm\n",
    "WINGSPAN        = 1400          * 1e-3  # mm\n",
    "WING_AREA       = WINGSPAN*MEAN_CHORD\n",
    "ASPECT_RATIO    = WINGSPAN/MEAN_CHORD"
   ]
  },
  {
   "cell_type": "code",
   "execution_count": 27,
   "metadata": {},
   "outputs": [],
   "source": [
    "### Tail config\n",
    "lt              = 650           * 1e-3  # mm\n",
    "tail_chord      = 150           * 1e-3  # mm\n",
    "tail_span       = 300           * 1e-3  # mm\n",
    "tail_area       = tail_chord*tail_span  # m**2\n",
    "\n",
    "hac = 62.5                      * 1e-3  # mm\n",
    "hcg = 187.5                     * 1e-3  # mm\n",
    "\n",
    "_,_,cl_t,cd_t,cm_t = np.load('naca9.npy',allow_pickle=True)\n",
    "alpha,_,cl_w,cd_w,cm_w = np.load('..\\\\Aerodynamics\\\\tkv2008_analysis_3.npy',allow_pickle=True)\n",
    "\n",
    "cl_w = cl_w[:,15]\n",
    "cd_w = cd_w[:,15]\n",
    "cm_w = cm_w[:,15]\n",
    "cl_t = cl_t.flatten()\n",
    "cd_t = cd_t.flatten()\n",
    "cm_t = cm_t.flatten()\n",
    "\n",
    "index_alpha_stall = np.nanargmax(cl_w)\n",
    "index_alpha_0 = np.nanargmin(np.abs(alpha))\n",
    "index_cl_0_tail = np.nanargmin(np.abs(cl_t))\n",
    "index_cl_0_wing = np.nanargmin(np.abs(cl_w))\n",
    "index_cl_max_tail = np.nanargmax(cl_t[:-20])\n",
    "index_cl_max_wing = np.nanargmax(cl_w)\n",
    "cl_alpha_tail = (cl_t[index_cl_max_tail]-cl_t[index_cl_0_tail])/(alpha[index_cl_max_tail]-alpha[index_cl_0_tail])\n",
    "cl_alpha_wing = (cl_w[index_cl_max_wing]-cl_w[index_cl_0_wing])/(alpha[index_cl_max_wing]-alpha[index_cl_0_wing])\n",
    "\n",
    "cl_w_linear = cl_w[index_alpha_0]+(alpha)*cl_alpha_wing\n",
    "cl_t_linear = cl_t[index_alpha_0]+(alpha-alpha[index_cl_0_tail])*cl_alpha_tail\n",
    "\n",
    "CL_alpha_tail = cl_alpha_tail*0.9 \n",
    "CL_alpha_wing = cl_alpha_wing*0.9\n",
    "CL_w_linear = cl_w[index_alpha_0]+alpha*CL_alpha_wing\n",
    "CL_t_linear = cl_t[index_alpha_0]+alpha*CL_alpha_tail"
   ]
  },
  {
   "cell_type": "code",
   "execution_count": 24,
   "metadata": {},
   "outputs": [],
   "source": [
    "CM_cg_w = cm_w + CL_w_linear * (hcg/MEAN_CHORD - hac/MEAN_CHORD)"
   ]
  },
  {
   "cell_type": "code",
   "execution_count": 32,
   "metadata": {},
   "outputs": [
    {
     "data": {
      "text/plain": [
       "[<matplotlib.lines.Line2D at 0x1f326ce3410>]"
      ]
     },
     "execution_count": 32,
     "metadata": {},
     "output_type": "execute_result"
    },
    {
     "data": {
      "image/png": "[encoded data removed]",
      "text/plain": [
       "<Figure size 640x480 with 1 Axes>"
      ]
     },
     "metadata": {},
     "output_type": "display_data"
    }
   ],
   "source": [
    "plt.plot(alpha,CM_cg_w)\n",
    "# plt.vlines(alpha[index_alpha_stall],ymin=0,ymax=1,colors='black')"
   ]
  },
  {
   "cell_type": "code",
   "execution_count": 35,
   "metadata": {},
   "outputs": [
    {
     "data": {
      "text/plain": [
       "0.33428571428571424"
      ]
     },
     "execution_count": 35,
     "metadata": {},
     "output_type": "execute_result"
    }
   ],
   "source": [
    "tail_volume = lt*tail_area/WING_AREA/MEAN_CHORD\n",
    "tail_volume"
   ]
  },
  {
   "cell_type": "code",
   "execution_count": 40,
   "metadata": {},
   "outputs": [],
   "source": [
    "iw = 0\n",
    "it = 0"
   ]
  },
  {
   "cell_type": "code",
   "execution_count": 36,
   "metadata": {},
   "outputs": [],
   "source": [
    "downwash = 2*CL_w_linear/np.pi/ASPECT_RATIO*180/np.pi\n",
    "downwash_prime = np.zeros(len(alpha))\n",
    "downwash_prime[:-1] = downwash[1:]-downwash[:-1]"
   ]
  },
  {
   "cell_type": "code",
   "execution_count": 41,
   "metadata": {},
   "outputs": [
    {
     "data": {
      "text/plain": [
       "-2.4028061224489794"
      ]
     },
     "execution_count": 41,
     "metadata": {},
     "output_type": "execute_result"
    }
   ],
   "source": [
    "angle_cl = (downwash[index_alpha_0]+iw-it)\n",
    "clat = np.nanargmin(alpha-angle_cl)\n",
    "cl_t_linear[clat]"
   ]
  },
  {
   "cell_type": "code",
   "execution_count": null,
   "metadata": {},
   "outputs": [],
   "source": [
    "CM_cg_t = -tail_volume * CL_t_linear * tail_efficiency"
   ]
  }
 ],
 "metadata": {
  "kernelspec": {
   "display_name": "Python 3",
   "language": "python",
   "name": "python3"
  },
  "language_info": {
   "codemirror_mode": {
    "name": "ipython",
    "version": 3
   },
   "file_extension": ".py",
   "mimetype": "text/x-python",
   "name": "python",
   "nbconvert_exporter": "python",
   "pygments_lexer": "ipython3",
   "version": "3.11.4"
  },
  "orig_nbformat": 4
 },
 "nbformat": 4,
 "nbformat_minor": 2
}
