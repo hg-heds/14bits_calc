{
 "cells": [
  {
   "cell_type": "code",
   "execution_count": 2,
   "metadata": {},
   "outputs": [],
   "source": [
    "import numpy as np\n",
    "import pandas"
   ]
  },
  {
   "cell_type": "code",
   "execution_count": 3,
   "metadata": {},
   "outputs": [],
   "source": [
    "alpha = np.round(np.arange(-25,25.01,0.2),2)"
   ]
  },
  {
   "cell_type": "code",
   "execution_count": 4,
   "metadata": {},
   "outputs": [],
   "source": [
    "analysis = {}\n",
    "cl = [] \n",
    "cd = [] \n",
    "cm = [] "
   ]
  },
  {
   "cell_type": "code",
   "execution_count": 5,
   "metadata": {},
   "outputs": [],
   "source": [
    "with open(f\"Naca_9_Re0.300_M0.00_N9.0.txt\",'rt') as f:\n",
    "    text = f.read()\n",
    "lines = text.strip().split('\\n')[11:]\n",
    "data = [line.strip().replace('    ',' ').replace('   ',' ').replace('  ',' ').split(' ') for line in lines] \n",
    "analysis[300] = {float(col[0]):(float(col[1]),float(col[2]),float(col[4])) for col in data}\n"
   ]
  },
  {
   "cell_type": "code",
   "execution_count": 6,
   "metadata": {},
   "outputs": [],
   "source": [
    "cl.append(list(pandas.Series([analysis[300][a][0] if a in analysis[300] else np.nan for a in alpha]).interpolate()))\n",
    "cd.append(list(pandas.Series([analysis[300][a][1] if a in analysis[300] else np.nan for a in alpha]).interpolate()))\n",
    "cm.append(list(pandas.Series([analysis[300][a][2] if a in analysis[300] else np.nan for a in alpha]).interpolate()))\n"
   ]
  },
  {
   "cell_type": "code",
   "execution_count": 7,
   "metadata": {},
   "outputs": [],
   "source": [
    "cl = np.array(cl).T\n",
    "cd = np.array(cd).T\n",
    "cm = np.array(cm).T "
   ]
  },
  {
   "cell_type": "code",
   "execution_count": 8,
   "metadata": {},
   "outputs": [],
   "source": [
    "# cl = cl[16:,:-2]\n",
    "# cd = cd[16:,:-2]\n",
    "# cm = cm[16:,:-2]\n",
    "# alpha = alpha[16:]\n",
    "# reynolds = reynolds[:-2]"
   ]
  },
  {
   "cell_type": "code",
   "execution_count": 9,
   "metadata": {},
   "outputs": [],
   "source": [
    "all_data = np.array([alpha,300,cl,cd,cm],dtype=object)"
   ]
  },
  {
   "cell_type": "code",
   "execution_count": 10,
   "metadata": {},
   "outputs": [],
   "source": [
    "np.save(\"naca9.npy\",all_data)"
   ]
  },
  {
   "cell_type": "code",
   "execution_count": null,
   "metadata": {},
   "outputs": [],
   "source": []
  }
 ],
 "metadata": {
  "kernelspec": {
   "display_name": "Python 3.10.11 64-bit (microsoft store)",
   "language": "python",
   "name": "python3"
  },
  "language_info": {
   "codemirror_mode": {
    "name": "ipython",
    "version": 3
   },
   "file_extension": ".py",
   "mimetype": "text/x-python",
   "name": "python",
   "nbconvert_exporter": "python",
   "pygments_lexer": "ipython3",
   "version": "3.10.11"
  },
  "orig_nbformat": 4,
  "vscode": {
   "interpreter": {
    "hash": "b1ad5e8ad7d380c83bc85e3e9d9545e0ca7f1df9662bca2fd259e79a6cf84242"
   }
  }
 },
 "nbformat": 4,
 "nbformat_minor": 2
}
